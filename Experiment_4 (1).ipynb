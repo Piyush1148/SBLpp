{
 "cells": [
  {
   "cell_type": "code",
   "execution_count": 4,
   "id": "a0d1fd39-bcf4-44d1-8210-96abfd03a92f",
   "metadata": {},
   "outputs": [
    {
     "name": "stdout",
     "output_type": "stream",
     "text": [
      "Files in the current directory:\n",
      "client.ipynb\n",
      "Experiment_4.ipynb\n",
      "server.ipynb\n",
      "Untitled.ipynb\n"
     ]
    },
    {
     "data": {
      "text/plain": [
       "'\\nThe above scipt uses os module to perform the required function.\\nUtilize the pathlib module to perform the same functionality.\\n'"
      ]
     },
     "execution_count": 4,
     "metadata": {},
     "output_type": "execute_result"
    }
   ],
   "source": [
    "import os\n",
    "\n",
    "files = [f for f in os.listdir('.') if os.path.isfile(f)]\n",
    "\n",
    "print(\"Files in the current directory:\")\n",
    "for file in files:\n",
    "    print(file)\n",
    "\n",
    "'''\n",
    "The above scipt uses os module to perform the required function.\n",
    "Utilize the pathlib module to perform the same functionality.\n",
    "'''"
   ]
  },
  {
   "cell_type": "code",
   "execution_count": 6,
   "id": "02194e5c-9190-4fd7-8554-ed06df892243",
   "metadata": {},
   "outputs": [
    {
     "name": "stdout",
     "output_type": "stream",
     "text": [
      "files in current directory: \n",
      ".ipynb_checkpoints\n",
      "client.ipynb\n",
      "Experiment_4.ipynb\n",
      "first\n",
      "server.ipynb\n",
      "Untitled.ipynb\n",
      "venv\n"
     ]
    }
   ],
   "source": [
    "from pathlib import Path\n",
    "files = Path('.').iterdir()\n",
    "print(\"files in current directory: \")\n",
    "for file in files:\n",
    "    print(file.name)"
   ]
  }
 ],
 "metadata": {
  "kernelspec": {
   "display_name": "Python 3 (ipykernel)",
   "language": "python",
   "name": "python3"
  },
  "language_info": {
   "codemirror_mode": {
    "name": "ipython",
    "version": 3
   },
   "file_extension": ".py",
   "mimetype": "text/x-python",
   "name": "python",
   "nbconvert_exporter": "python",
   "pygments_lexer": "ipython3",
   "version": "3.12.0"
  }
 },
 "nbformat": 4,
 "nbformat_minor": 5
}
