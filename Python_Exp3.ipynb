{
  "nbformat": 4,
  "nbformat_minor": 0,
  "metadata": {
    "colab": {
      "provenance": []
    },
    "kernelspec": {
      "name": "python3",
      "display_name": "Python 3"
    },
    "language_info": {
      "name": "python"
    }
  },
  "cells": [
    {
      "cell_type": "code",
      "execution_count": 1,
      "metadata": {
        "colab": {
          "base_uri": "https://localhost:8080/"
        },
        "id": "3lGEvOI_MZ17",
        "outputId": "c5187248-0021-47e4-d540-147c9a58ba99"
      },
      "outputs": [
        {
          "output_type": "stream",
          "name": "stdout",
          "text": [
            "Lines: 12\n",
            "Words: 297\n",
            "Characters: 1594\n"
          ]
        }
      ],
      "source": [
        "if __name__ == '__main__':\n",
        "    with open ('./Test.txt', 'r') as file:\n",
        "        lines = file.readlines ()\n",
        "        numberOfLines = len (lines)\n",
        "        numberOfWords = sum (len (line.split()) for line in lines)\n",
        "\n",
        "        # Write numberOfCharacters over here.\n",
        "        numberOfCharacters = sum (len (line) for line in lines)\n",
        "\n",
        "    print(f\"Lines: {numberOfLines}\")\n",
        "    print(f\"Words: {numberOfWords}\")\n",
        "    print(f\"Characters: {numberOfCharacters}\")"
      ]
    }
  ]
}