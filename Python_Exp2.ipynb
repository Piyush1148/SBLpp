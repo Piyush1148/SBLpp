{
  "nbformat": 4,
  "nbformat_minor": 0,
  "metadata": {
    "colab": {
      "provenance": []
    },
    "kernelspec": {
      "name": "python3",
      "display_name": "Python 3"
    },
    "language_info": {
      "name": "python"
    }
  },
  "cells": [
    {
      "cell_type": "code",
      "execution_count": 1,
      "metadata": {
        "colab": {
          "base_uri": "https://localhost:8080/"
        },
        "id": "QGP-XX3LJCHU",
        "outputId": "c14e84db-6f7b-45fb-f4af-497784ac5183"
      },
      "outputs": [
        {
          "output_type": "stream",
          "name": "stdout",
          "text": [
            "Pankaj is a full stack developer\n",
            "Aryan is a frontend dev\n",
            "Raunak is a backend dev\n",
            "Sakshi is not a developer\n"
          ]
        }
      ],
      "source": [
        "class Employee:\n",
        "    def __init__ (\n",
        "            self,\n",
        "            designation : str = 'Developer',\n",
        "            frontend : bool = False,\n",
        "            backend : bool = False,\n",
        "            name : str = 'name'\n",
        "    ):\n",
        "        self.designation = designation\n",
        "        self.frontend = frontend\n",
        "        self.backend = backend\n",
        "        self.name = name\n",
        "\n",
        "    def __repr__ (self):\n",
        "        return '{}'.format (self.designation, self.frontend, self.backend)\n",
        "\n",
        "    ### Write the your method over here.\n",
        "    def verifier (self):\n",
        "        if self.frontend == True and self.backend == True:\n",
        "          return f'{self.name} is a full stack developer'\n",
        "        elif self.frontend:\n",
        "          return f'{self.name} is a frontend dev'\n",
        "        elif self.backend:\n",
        "          return f'{self.name} is a backend dev'\n",
        "        else:\n",
        "          return f'{self.name} is not a developer'\n",
        "\n",
        "if __name__ == '__main__':\n",
        "    firstEmployee = Employee(name = 'Pankaj', frontend = True, backend = True)\n",
        "    print(firstEmployee.verifier())\n",
        "    secondEmployee = Employee(name = 'Aryan', frontend = True, backend = False)\n",
        "    print(secondEmployee.verifier())\n",
        "    thirdEmployee = Employee(name = 'Raunak', frontend = False, backend = True)\n",
        "    print(thirdEmployee.verifier())\n",
        "    forthEmployee = Employee(name = 'Sakshi', frontend = False, backend = False)\n",
        "    print(forthEmployee.verifier())\n"
      ]
    }
  ]
}