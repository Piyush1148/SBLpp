{
 "cells": [
  {
   "cell_type": "code",
   "execution_count": 16,
   "id": "8cbc0d3d-591c-45ef-aed7-bcf279342861",
   "metadata": {},
   "outputs": [
    {
     "name": "stdout",
     "output_type": "stream",
     "text": [
      "Initial Stack\n",
      "['a', 'b', 'c']\n"
     ]
    }
   ],
   "source": [
    "stack = list ()\n",
    "\n",
    "# Append Operation\n",
    "stack.append ('a')\n",
    "stack.append ('b')\n",
    "stack.append ('c')\n",
    "print ('Initial Stack')\n",
    "print (stack)"
   ]
  },
  {
   "cell_type": "code",
   "execution_count": 17,
   "id": "748f2d73-9552-41da-9551-f56d01c5cd88",
   "metadata": {},
   "outputs": [
    {
     "name": "stdout",
     "output_type": "stream",
     "text": [
      "c\n",
      "b\n",
      "a\n",
      "[]\n"
     ]
    }
   ],
   "source": [
    "# Pop Operation\n",
    "print (stack.pop ())\n",
    "print (stack.pop ())\n",
    "print (stack.pop ())\n",
    "print (stack)"
   ]
  },
  {
   "cell_type": "code",
   "execution_count": 19,
   "id": "dfe1b13e-55de-4b29-862a-d27418f194c1",
   "metadata": {},
   "outputs": [],
   "source": [
    "class StackDepth:\n",
    "    def maximumDepth(s: str) -> int:\n",
    "        current_depth = 0\n",
    "        max_depth = 0\n",
    "    \n",
    "        for char in s:\n",
    "            if char == '(':\n",
    "                current_depth += 1\n",
    "                max_depth = max(max_depth, current_depth)\n",
    "            elif char == ')':\n",
    "                current_depth -= 1\n",
    "            \n",
    "        return max_depth"
   ]
  },
  {
   "cell_type": "code",
   "execution_count": 22,
   "id": "71f67b04-6f72-4d02-afdf-86aa6c39c46f",
   "metadata": {},
   "outputs": [],
   "source": [
    "s = \"(1+(2*3)+((8)/4))+1\""
   ]
  },
  {
   "cell_type": "code",
   "execution_count": 21,
   "id": "faf97f91-83ce-41ad-8c3e-c0d68558754a",
   "metadata": {},
   "outputs": [],
   "source": [
    "obj1 = StackDepth()"
   ]
  },
  {
   "cell_type": "code",
   "execution_count": 30,
   "id": "80a8b824-7155-4e3a-a101-8d33c8912055",
   "metadata": {},
   "outputs": [
    {
     "data": {
      "text/plain": [
       "3"
      ]
     },
     "execution_count": 30,
     "metadata": {},
     "output_type": "execute_result"
    }
   ],
   "source": [
    "StackDepth.maximumDepth(s)"
   ]
  },
  {
   "cell_type": "code",
   "execution_count": 31,
   "id": "10b3255d-4a51-4dc6-bbcf-ede9dee0a535",
   "metadata": {},
   "outputs": [
    {
     "data": {
      "text/plain": [
       "3"
      ]
     },
     "execution_count": 31,
     "metadata": {},
     "output_type": "execute_result"
    }
   ],
   "source": [
    "StackDepth.maximumDepth(\"(1)+((2))+(((3)))\")"
   ]
  },
  {
   "cell_type": "code",
   "execution_count": 32,
   "id": "6fea9728-93e4-4207-9196-001a29a43d94",
   "metadata": {},
   "outputs": [
    {
     "data": {
      "text/plain": [
       "3"
      ]
     },
     "execution_count": 32,
     "metadata": {},
     "output_type": "execute_result"
    }
   ],
   "source": [
    "StackDepth.maximumDepth(\"()(())((()()))\")"
   ]
  }
 ],
 "metadata": {
  "kernelspec": {
   "display_name": "Python 3 (ipykernel)",
   "language": "python",
   "name": "python3"
  },
  "language_info": {
   "codemirror_mode": {
    "name": "ipython",
    "version": 3
   },
   "file_extension": ".py",
   "mimetype": "text/x-python",
   "name": "python",
   "nbconvert_exporter": "python",
   "pygments_lexer": "ipython3",
   "version": "3.12.0"
  }
 },
 "nbformat": 4,
 "nbformat_minor": 5
}
